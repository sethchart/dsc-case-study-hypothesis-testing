{
 "cells": [
  {
   "cell_type": "code",
   "execution_count": 2,
   "metadata": {},
   "outputs": [],
   "source": [
    "# import libraries\n",
    "from importlib import reload\n",
    "from data import northWindConnector\n",
    "import numpy as np"
   ]
  },
  {
   "cell_type": "code",
   "execution_count": 3,
   "metadata": {},
   "outputs": [],
   "source": [
    "reload(northWindConnector);"
   ]
  },
  {
   "cell_type": "markdown",
   "metadata": {},
   "source": [
    "## Investigate data"
   ]
  },
  {
   "cell_type": "markdown",
   "metadata": {},
   "source": [
    "Below we make a connection to the database."
   ]
  },
  {
   "cell_type": "code",
   "execution_count": 4,
   "metadata": {},
   "outputs": [],
   "source": [
    "db = northWindConnector.DbConnector()"
   ]
  },
  {
   "cell_type": "markdown",
   "metadata": {},
   "source": [
    "The code snippet below prints tables with their column names."
   ]
  },
  {
   "cell_type": "code",
   "execution_count": 5,
   "metadata": {},
   "outputs": [
    {
     "name": "stdout",
     "output_type": "stream",
     "text": [
      "\n",
      "===Employee===\n",
      "\n",
      "Id\n",
      "LastName\n",
      "FirstName\n",
      "Title\n",
      "TitleOfCourtesy\n",
      "BirthDate\n",
      "HireDate\n",
      "Address\n",
      "City\n",
      "Region\n",
      "PostalCode\n",
      "Country\n",
      "HomePhone\n",
      "Extension\n",
      "Photo\n",
      "Notes\n",
      "ReportsTo\n",
      "PhotoPath\n",
      "\n",
      "===Category===\n",
      "\n",
      "Id\n",
      "CategoryName\n",
      "Description\n",
      "\n",
      "===Customer===\n",
      "\n",
      "Id\n",
      "CompanyName\n",
      "ContactName\n",
      "ContactTitle\n",
      "Address\n",
      "City\n",
      "Region\n",
      "PostalCode\n",
      "Country\n",
      "Phone\n",
      "Fax\n",
      "\n",
      "===Shipper===\n",
      "\n",
      "Id\n",
      "CompanyName\n",
      "Phone\n",
      "\n",
      "===Supplier===\n",
      "\n",
      "Id\n",
      "CompanyName\n",
      "ContactName\n",
      "ContactTitle\n",
      "Address\n",
      "City\n",
      "Region\n",
      "PostalCode\n",
      "Country\n",
      "Phone\n",
      "Fax\n",
      "HomePage\n",
      "\n",
      "===Order===\n",
      "\n",
      "Id\n",
      "CustomerId\n",
      "EmployeeId\n",
      "OrderDate\n",
      "RequiredDate\n",
      "ShippedDate\n",
      "ShipVia\n",
      "Freight\n",
      "ShipName\n",
      "ShipAddress\n",
      "ShipCity\n",
      "ShipRegion\n",
      "ShipPostalCode\n",
      "ShipCountry\n",
      "\n",
      "===Product===\n",
      "\n",
      "Id\n",
      "ProductName\n",
      "SupplierId\n",
      "CategoryId\n",
      "QuantityPerUnit\n",
      "UnitPrice\n",
      "UnitsInStock\n",
      "UnitsOnOrder\n",
      "ReorderLevel\n",
      "Discontinued\n",
      "\n",
      "===OrderDetail===\n",
      "\n",
      "Id\n",
      "OrderId\n",
      "ProductId\n",
      "UnitPrice\n",
      "Quantity\n",
      "Discount\n",
      "\n",
      "===CustomerCustomerDemo===\n",
      "\n",
      "Id\n",
      "CustomerTypeId\n",
      "\n",
      "===CustomerDemographic===\n",
      "\n",
      "Id\n",
      "CustomerDesc\n",
      "\n",
      "===Region===\n",
      "\n",
      "Id\n",
      "RegionDescription\n",
      "\n",
      "===Territory===\n",
      "\n",
      "Id\n",
      "TerritoryDescription\n",
      "RegionId\n",
      "\n",
      "===EmployeeTerritory===\n",
      "\n",
      "Id\n",
      "EmployeeId\n",
      "TerritoryId\n"
     ]
    }
   ],
   "source": [
    "tables = db.list_tables()\n",
    "for table in tables:\n",
    "    print(f'\\n==={table}===\\n')\n",
    "    columns = db.list_column_names(table)\n",
    "    for column in columns:\n",
    "        print(column)"
   ]
  },
  {
   "cell_type": "markdown",
   "metadata": {},
   "source": [
    "# Question 3: Is there a difference in mean sales between Sales Managers and Sales Representatives?"
   ]
  },
  {
   "cell_type": "markdown",
   "metadata": {},
   "source": [
    "We are interested in a difference in mean sales between sales managers and sales representatives. Below we load the relevant data from the database."
   ]
  },
  {
   "cell_type": "code",
   "execution_count": 6,
   "metadata": {},
   "outputs": [],
   "source": [
    "query = \"\"\"\n",
    "SELECT e.id, e.Title, o.Id AS OrderId, od.UnitPrice, od.Quantity, od.Discount\n",
    "FROM OrderDetail AS od\n",
    "JOIN 'Order' AS o ON o.Id = od.OrderId\n",
    "JOIN Employee AS e ON o.EmployeeId = e.Id\n",
    "WHERE e.Title IN ('Sales Manager', 'Sales Representative')\n",
    "\"\"\"\n",
    "df = db.load_query_as_df(query)"
   ]
  },
  {
   "cell_type": "code",
   "execution_count": 7,
   "metadata": {},
   "outputs": [
    {
     "data": {
      "text/plain": [
       "(1654, 6)"
      ]
     },
     "execution_count": 7,
     "metadata": {},
     "output_type": "execute_result"
    }
   ],
   "source": [
    "df.shape"
   ]
  },
  {
   "cell_type": "markdown",
   "metadata": {},
   "source": [
    "Below we define a function that will compute the total price of the items described in a row of the dataframe."
   ]
  },
  {
   "cell_type": "code",
   "execution_count": 8,
   "metadata": {},
   "outputs": [],
   "source": [
    "def compute_product_total(price, quantity, discount):\n",
    "    total = price*(1 - discount)*quantity\n",
    "    return total"
   ]
  },
  {
   "cell_type": "markdown",
   "metadata": {},
   "source": [
    "Next we use the function above to add a `Total` column to the dataframe."
   ]
  },
  {
   "cell_type": "code",
   "execution_count": 9,
   "metadata": {},
   "outputs": [],
   "source": [
    "df['Total'] = df.apply(lambda x: compute_product_total(x.UnitPrice, x.Quantity, x.Discount), axis=1)"
   ]
  },
  {
   "cell_type": "code",
   "execution_count": 10,
   "metadata": {},
   "outputs": [
    {
     "data": {
      "text/plain": [
       "(1654, 7)"
      ]
     },
     "execution_count": 10,
     "metadata": {},
     "output_type": "execute_result"
    }
   ],
   "source": [
    "df.shape"
   ]
  },
  {
   "cell_type": "markdown",
   "metadata": {},
   "source": [
    "Next we group sales by employee."
   ]
  },
  {
   "cell_type": "code",
   "execution_count": 11,
   "metadata": {},
   "outputs": [],
   "source": [
    "grouped = df[['OrderId', 'Title', 'Total']].groupby(['OrderId', 'Title']).sum().reset_index()"
   ]
  },
  {
   "cell_type": "code",
   "execution_count": 12,
   "metadata": {},
   "outputs": [
    {
     "data": {
      "text/plain": [
       "(630, 3)"
      ]
     },
     "execution_count": 12,
     "metadata": {},
     "output_type": "execute_result"
    }
   ],
   "source": [
    "grouped.shape"
   ]
  },
  {
   "cell_type": "markdown",
   "metadata": {},
   "source": [
    "Now we make our samples."
   ]
  },
  {
   "cell_type": "code",
   "execution_count": 13,
   "metadata": {},
   "outputs": [],
   "source": [
    "managers = np.array(df.loc[df['Title'] == 'Sales Manager', 'Total'])\n",
    "reps = np.array(df.loc[df['Title'] == 'Sales Representative', 'Total'])"
   ]
  },
  {
   "cell_type": "code",
   "execution_count": 14,
   "metadata": {},
   "outputs": [
    {
     "data": {
      "text/plain": [
       "Text(0.5, 1.0, 'Price Distributions for sales by Managers ($N_m =$ 117) and Representatives ($N_r =$ 1537)')"
      ]
     },
     "execution_count": 14,
     "metadata": {},
     "output_type": "execute_result"
    },
    {
     "data": {
      "image/png": "[encoded data removed]",
      "text/plain": [
       "<Figure size 720x432 with 1 Axes>"
      ]
     },
     "metadata": {
      "needs_background": "light"
     },
     "output_type": "display_data"
    }
   ],
   "source": [
    "import seaborn as sns\n",
    "import matplotlib.pyplot as plt\n",
    "plt.figure(figsize = (10,6))\n",
    "sns.distplot(managers)\n",
    "sns.distplot(reps)\n",
    "plt.xlabel('Total price per sale USD')\n",
    "plt.ylabel('Probability')\n",
    "plt.legend(['Managers', 'Represetatives'])\n",
    "plt.title(f'Price Distributions for sales by Managers ($N_m =$ {len(managers)}) and Representatives ($N_r =$ {len(reps)})')"
   ]
  },
  {
   "cell_type": "markdown",
   "metadata": {},
   "source": [
    "## Welch's T-Test\n",
    "H0: There is no difference between the mean sales for sales managers and sales representatives. \n",
    "HA: There is a difference between the mean sales sales managers and sales representatives."
   ]
  },
  {
   "cell_type": "markdown",
   "metadata": {},
   "source": [
    "### Verifying hypotheses.\n",
    "Welch's t-test assumes that the sampling distributions for the sample means are normally distributed. While prices are clearly skewed right, the sample sizes are large enough that the Central Limit Theorem ensures that the sampling distributions will be sufficiently close to the normal distribution. "
   ]
  },
  {
   "cell_type": "code",
   "execution_count": 15,
   "metadata": {},
   "outputs": [
    {
     "data": {
      "text/plain": [
       "Ttest_indResult(statistic=0.0008430356383237651, pvalue=0.9993285461525043)"
      ]
     },
     "execution_count": 15,
     "metadata": {},
     "output_type": "execute_result"
    }
   ],
   "source": [
    "from scipy import stats\n",
    "stats.ttest_ind(managers, reps, equal_var=False)"
   ]
  },
  {
   "cell_type": "markdown",
   "metadata": {},
   "source": [
    "## Conclusion"
   ]
  },
  {
   "cell_type": "markdown",
   "metadata": {},
   "source": [
    "We fail to reject the Null Hypothesis. We are not able to detect any significant difference between the mean sales for Managers and Representatives.\n",
    "\n",
    "<img src='../images/meme.jpeg' width='500'/>"
   ]
  }
 ],
 "metadata": {
  "kernelspec": {
   "display_name": "flatiron",
   "language": "python",
   "name": "flatiron"
  },
  "language_info": {
   "codemirror_mode": {
    "name": "ipython",
    "version": 3
   },
   "file_extension": ".py",
   "mimetype": "text/x-python",
   "name": "python",
   "nbconvert_exporter": "python",
   "pygments_lexer": "ipython3",
   "version": "3.6.9"
  }
 },
 "nbformat": 4,
 "nbformat_minor": 2
}
